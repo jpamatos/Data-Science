{
 "cells": [
  {
   "cell_type": "markdown",
   "metadata": {},
   "source": [
    "#### Naive Bayes\n",
    "\n",
    "Implementação de um classificador Naive Bayes que considera as probabilidades de forma independente um do outro."
   ]
  },
  {
   "cell_type": "code",
   "execution_count": 1,
   "metadata": {},
   "outputs": [],
   "source": [
    "import pandas as pd\n",
    "from sklearn.model_selection import train_test_split\n",
    "from sklearn.naive_bayes import GaussianNB\n",
    "from sklearn.preprocessing import LabelEncoder\n",
    "from sklearn.metrics import confusion_matrix, accuracy_score\n",
    "from yellowbrick.classifier import ConfusionMatrix\n"
   ]
  },
  {
   "cell_type": "markdown",
   "metadata": {},
   "source": [
    "Os dados da base Credit.csv são clientes de um banco alemão que solicitaram crédito e será utilizado o classificador para classificá-los em bons e maus pagadores."
   ]
  },
  {
   "cell_type": "code",
   "execution_count": 4,
   "metadata": {},
   "outputs": [
    {
     "data": {
      "text/html": [
       "<div>\n",
       "<style scoped>\n",
       "    .dataframe tbody tr th:only-of-type {\n",
       "        vertical-align: middle;\n",
       "    }\n",
       "\n",
       "    .dataframe tbody tr th {\n",
       "        vertical-align: top;\n",
       "    }\n",
       "\n",
       "    .dataframe thead th {\n",
       "        text-align: right;\n",
       "    }\n",
       "</style>\n",
       "<table border=\"1\" class=\"dataframe\">\n",
       "  <thead>\n",
       "    <tr style=\"text-align: right;\">\n",
       "      <th></th>\n",
       "      <th>checking_status</th>\n",
       "      <th>duration</th>\n",
       "      <th>credit_history</th>\n",
       "      <th>purpose</th>\n",
       "      <th>credit_amount</th>\n",
       "      <th>savings_status</th>\n",
       "      <th>employment</th>\n",
       "      <th>installment_commitment</th>\n",
       "      <th>personal_status</th>\n",
       "      <th>other_parties</th>\n",
       "      <th>...</th>\n",
       "      <th>property_magnitude</th>\n",
       "      <th>age</th>\n",
       "      <th>other_payment_plans</th>\n",
       "      <th>housing</th>\n",
       "      <th>existing_credits</th>\n",
       "      <th>job</th>\n",
       "      <th>num_dependents</th>\n",
       "      <th>own_telephone</th>\n",
       "      <th>foreign_worker</th>\n",
       "      <th>class</th>\n",
       "    </tr>\n",
       "  </thead>\n",
       "  <tbody>\n",
       "    <tr>\n",
       "      <th>995</th>\n",
       "      <td>'no checking'</td>\n",
       "      <td>12</td>\n",
       "      <td>'existing paid'</td>\n",
       "      <td>furniture/equipment</td>\n",
       "      <td>1736</td>\n",
       "      <td>&lt;100</td>\n",
       "      <td>4&lt;=X&lt;7</td>\n",
       "      <td>3</td>\n",
       "      <td>'female div/dep/mar'</td>\n",
       "      <td>none</td>\n",
       "      <td>...</td>\n",
       "      <td>'real estate'</td>\n",
       "      <td>31</td>\n",
       "      <td>none</td>\n",
       "      <td>own</td>\n",
       "      <td>1</td>\n",
       "      <td>'unskilled resident'</td>\n",
       "      <td>1</td>\n",
       "      <td>none</td>\n",
       "      <td>yes</td>\n",
       "      <td>good</td>\n",
       "    </tr>\n",
       "    <tr>\n",
       "      <th>996</th>\n",
       "      <td>&lt;0</td>\n",
       "      <td>30</td>\n",
       "      <td>'existing paid'</td>\n",
       "      <td>'used car'</td>\n",
       "      <td>3857</td>\n",
       "      <td>&lt;100</td>\n",
       "      <td>1&lt;=X&lt;4</td>\n",
       "      <td>4</td>\n",
       "      <td>'male div/sep'</td>\n",
       "      <td>none</td>\n",
       "      <td>...</td>\n",
       "      <td>'life insurance'</td>\n",
       "      <td>40</td>\n",
       "      <td>none</td>\n",
       "      <td>own</td>\n",
       "      <td>1</td>\n",
       "      <td>'high qualif/self emp/mgmt'</td>\n",
       "      <td>1</td>\n",
       "      <td>yes</td>\n",
       "      <td>yes</td>\n",
       "      <td>good</td>\n",
       "    </tr>\n",
       "    <tr>\n",
       "      <th>997</th>\n",
       "      <td>'no checking'</td>\n",
       "      <td>12</td>\n",
       "      <td>'existing paid'</td>\n",
       "      <td>radio/tv</td>\n",
       "      <td>804</td>\n",
       "      <td>&lt;100</td>\n",
       "      <td>&gt;=7</td>\n",
       "      <td>4</td>\n",
       "      <td>'male single'</td>\n",
       "      <td>none</td>\n",
       "      <td>...</td>\n",
       "      <td>car</td>\n",
       "      <td>38</td>\n",
       "      <td>none</td>\n",
       "      <td>own</td>\n",
       "      <td>1</td>\n",
       "      <td>skilled</td>\n",
       "      <td>1</td>\n",
       "      <td>none</td>\n",
       "      <td>yes</td>\n",
       "      <td>good</td>\n",
       "    </tr>\n",
       "    <tr>\n",
       "      <th>998</th>\n",
       "      <td>&lt;0</td>\n",
       "      <td>45</td>\n",
       "      <td>'existing paid'</td>\n",
       "      <td>radio/tv</td>\n",
       "      <td>1845</td>\n",
       "      <td>&lt;100</td>\n",
       "      <td>1&lt;=X&lt;4</td>\n",
       "      <td>4</td>\n",
       "      <td>'male single'</td>\n",
       "      <td>none</td>\n",
       "      <td>...</td>\n",
       "      <td>'no known property'</td>\n",
       "      <td>23</td>\n",
       "      <td>none</td>\n",
       "      <td>'for free'</td>\n",
       "      <td>1</td>\n",
       "      <td>skilled</td>\n",
       "      <td>1</td>\n",
       "      <td>yes</td>\n",
       "      <td>yes</td>\n",
       "      <td>bad</td>\n",
       "    </tr>\n",
       "    <tr>\n",
       "      <th>999</th>\n",
       "      <td>0&lt;=X&lt;200</td>\n",
       "      <td>45</td>\n",
       "      <td>'critical/other existing credit'</td>\n",
       "      <td>'used car'</td>\n",
       "      <td>4576</td>\n",
       "      <td>100&lt;=X&lt;500</td>\n",
       "      <td>unemployed</td>\n",
       "      <td>3</td>\n",
       "      <td>'male single'</td>\n",
       "      <td>none</td>\n",
       "      <td>...</td>\n",
       "      <td>car</td>\n",
       "      <td>27</td>\n",
       "      <td>none</td>\n",
       "      <td>own</td>\n",
       "      <td>1</td>\n",
       "      <td>skilled</td>\n",
       "      <td>1</td>\n",
       "      <td>none</td>\n",
       "      <td>yes</td>\n",
       "      <td>good</td>\n",
       "    </tr>\n",
       "  </tbody>\n",
       "</table>\n",
       "<p>5 rows × 21 columns</p>\n",
       "</div>"
      ],
      "text/plain": [
       "    checking_status  duration                    credit_history  \\\n",
       "995   'no checking'        12                   'existing paid'   \n",
       "996              <0        30                   'existing paid'   \n",
       "997   'no checking'        12                   'existing paid'   \n",
       "998              <0        45                   'existing paid'   \n",
       "999        0<=X<200        45  'critical/other existing credit'   \n",
       "\n",
       "                 purpose  credit_amount savings_status  employment  \\\n",
       "995  furniture/equipment           1736           <100      4<=X<7   \n",
       "996           'used car'           3857           <100      1<=X<4   \n",
       "997             radio/tv            804           <100         >=7   \n",
       "998             radio/tv           1845           <100      1<=X<4   \n",
       "999           'used car'           4576     100<=X<500  unemployed   \n",
       "\n",
       "     installment_commitment       personal_status other_parties  ...  \\\n",
       "995                       3  'female div/dep/mar'          none  ...   \n",
       "996                       4        'male div/sep'          none  ...   \n",
       "997                       4         'male single'          none  ...   \n",
       "998                       4         'male single'          none  ...   \n",
       "999                       3         'male single'          none  ...   \n",
       "\n",
       "      property_magnitude age  other_payment_plans     housing  \\\n",
       "995        'real estate'  31                 none         own   \n",
       "996     'life insurance'  40                 none         own   \n",
       "997                  car  38                 none         own   \n",
       "998  'no known property'  23                 none  'for free'   \n",
       "999                  car  27                 none         own   \n",
       "\n",
       "    existing_credits                          job num_dependents  \\\n",
       "995                1         'unskilled resident'              1   \n",
       "996                1  'high qualif/self emp/mgmt'              1   \n",
       "997                1                      skilled              1   \n",
       "998                1                      skilled              1   \n",
       "999                1                      skilled              1   \n",
       "\n",
       "     own_telephone foreign_worker class  \n",
       "995           none            yes  good  \n",
       "996            yes            yes  good  \n",
       "997           none            yes  good  \n",
       "998            yes            yes   bad  \n",
       "999           none            yes  good  \n",
       "\n",
       "[5 rows x 21 columns]"
      ]
     },
     "execution_count": 4,
     "metadata": {},
     "output_type": "execute_result"
    }
   ],
   "source": [
    "credito = pd.read_csv(\"data/Credit.csv\")\n",
    "credito.tail()"
   ]
  },
  {
   "cell_type": "markdown",
   "metadata": {},
   "source": [
    "Pelo método `tail` observa-se que o dataset possui 21 atributos e 1000 entradas. Dentre os atributos constam atributos categóricos e atributos numéricos. A última coluna, a coluna class é a que será prevista.\n",
    "\n",
    "O objetivo é criar um modelo onde ao adicionar um novo cliente, a partir dos atributos será determinado se ele será um bom pagador ou não.\n",
    "\n",
    "Para começar o dataset será divido entre previsores e classe, onde os previsores serão so atributos de 0 a 20. A classe a ser prevista, que é a última classe, é separado em outra variável."
   ]
  },
  {
   "cell_type": "code",
   "execution_count": 7,
   "metadata": {},
   "outputs": [],
   "source": [
    "previsores = credito.iloc[:, 0:20].values\n",
    "classe = credito.iloc[:, 20].values"
   ]
  },
  {
   "cell_type": "markdown",
   "metadata": {},
   "source": [
    "Para uilizar o Naive Bayes é necessário transformar os atributos categóricos em atributos numéricos, para isso será utilizado a técnica de label encoder. É necssário transformar cada atributo em um objeto da classe `LabelEncoder` que é uma classe da biblioteca `sklearn.preprocessing` e depois executar o processo de encoding para o treino.\n",
    "\n",
    "Esse encoding é usado em cada variável categórica e as variáveis numéricas são puladas.\n",
    "\n"
   ]
  },
  {
   "cell_type": "code",
   "execution_count": 8,
   "metadata": {},
   "outputs": [],
   "source": [
    "le = []\n",
    "for i in range(20):\n",
    "    if i not in [1, 4, 7, 10, 12, 15, 17]:\n",
    "        label = LabelEncoder()\n",
    "        previsores[:, i] = label.fit_transform(previsores[:, i])\n",
    "        le.append(label)"
   ]
  },
  {
   "cell_type": "markdown",
   "metadata": {},
   "source": [
    "Para utilizar o método de aprendizagem de máquina utilizando o Naive Bayes, será necessário dividir os dados em treino e teste, não é bom utilizar os mesmos dados para realizar o teste pois poderá gerar `overfitting` do modelo.\n",
    "\n",
    "Isso é evitado utilizando o método `train_test_split` da biblioteca `sklearn`. Esse método gera 4 variáveis que são os dados de treino para X (variáveis independentes) e dados de Teste para Y (variável dependente). O método leva como parâmetro os atributos que serão os previsores, o atributo que será o previsto e o tamanho da amostra."
   ]
  },
  {
   "cell_type": "code",
   "execution_count": 11,
   "metadata": {},
   "outputs": [
    {
     "name": "stdout",
     "output_type": "stream",
     "text": [
      "Tamanho das variáveis:\n",
      "X Treino = 700\n",
      "X Teste = 300\n",
      "Y Treino = 700\n",
      "Y Teste = 300\n"
     ]
    }
   ],
   "source": [
    "x_train, x_test, y_train, y_test = train_test_split(previsores, classe, test_size=0.3, random_state = 0)\n",
    "print(f\"Tamanho das variáveis:\\nX Treino = {len(x_train)}\\nX Teste = {len(x_test)}\\nY Treino = {len(y_train)}\\nY Teste = {len(y_test)}\")"
   ]
  },
  {
   "cell_type": "markdown",
   "metadata": {},
   "source": [
    "Foram separados 30% dos dados para teste.\n",
    "\n",
    "O modelo é criado utilizando o Naive Bayes Gaussiano, da classe `GaussianNB` da biblioteca `sklearn`. Essa classe possui o método `fit` que utiliza os dados de treino das variáveis independentes e das variáveis dependentes para gerar o modelo."
   ]
  },
  {
   "cell_type": "code",
   "execution_count": 12,
   "metadata": {},
   "outputs": [
    {
     "data": {
      "text/html": [
       "<style>#sk-container-id-1 {color: black;background-color: white;}#sk-container-id-1 pre{padding: 0;}#sk-container-id-1 div.sk-toggleable {background-color: white;}#sk-container-id-1 label.sk-toggleable__label {cursor: pointer;display: block;width: 100%;margin-bottom: 0;padding: 0.3em;box-sizing: border-box;text-align: center;}#sk-container-id-1 label.sk-toggleable__label-arrow:before {content: \"▸\";float: left;margin-right: 0.25em;color: #696969;}#sk-container-id-1 label.sk-toggleable__label-arrow:hover:before {color: black;}#sk-container-id-1 div.sk-estimator:hover label.sk-toggleable__label-arrow:before {color: black;}#sk-container-id-1 div.sk-toggleable__content {max-height: 0;max-width: 0;overflow: hidden;text-align: left;background-color: #f0f8ff;}#sk-container-id-1 div.sk-toggleable__content pre {margin: 0.2em;color: black;border-radius: 0.25em;background-color: #f0f8ff;}#sk-container-id-1 input.sk-toggleable__control:checked~div.sk-toggleable__content {max-height: 200px;max-width: 100%;overflow: auto;}#sk-container-id-1 input.sk-toggleable__control:checked~label.sk-toggleable__label-arrow:before {content: \"▾\";}#sk-container-id-1 div.sk-estimator input.sk-toggleable__control:checked~label.sk-toggleable__label {background-color: #d4ebff;}#sk-container-id-1 div.sk-label input.sk-toggleable__control:checked~label.sk-toggleable__label {background-color: #d4ebff;}#sk-container-id-1 input.sk-hidden--visually {border: 0;clip: rect(1px 1px 1px 1px);clip: rect(1px, 1px, 1px, 1px);height: 1px;margin: -1px;overflow: hidden;padding: 0;position: absolute;width: 1px;}#sk-container-id-1 div.sk-estimator {font-family: monospace;background-color: #f0f8ff;border: 1px dotted black;border-radius: 0.25em;box-sizing: border-box;margin-bottom: 0.5em;}#sk-container-id-1 div.sk-estimator:hover {background-color: #d4ebff;}#sk-container-id-1 div.sk-parallel-item::after {content: \"\";width: 100%;border-bottom: 1px solid gray;flex-grow: 1;}#sk-container-id-1 div.sk-label:hover label.sk-toggleable__label {background-color: #d4ebff;}#sk-container-id-1 div.sk-serial::before {content: \"\";position: absolute;border-left: 1px solid gray;box-sizing: border-box;top: 0;bottom: 0;left: 50%;z-index: 0;}#sk-container-id-1 div.sk-serial {display: flex;flex-direction: column;align-items: center;background-color: white;padding-right: 0.2em;padding-left: 0.2em;position: relative;}#sk-container-id-1 div.sk-item {position: relative;z-index: 1;}#sk-container-id-1 div.sk-parallel {display: flex;align-items: stretch;justify-content: center;background-color: white;position: relative;}#sk-container-id-1 div.sk-item::before, #sk-container-id-1 div.sk-parallel-item::before {content: \"\";position: absolute;border-left: 1px solid gray;box-sizing: border-box;top: 0;bottom: 0;left: 50%;z-index: -1;}#sk-container-id-1 div.sk-parallel-item {display: flex;flex-direction: column;z-index: 1;position: relative;background-color: white;}#sk-container-id-1 div.sk-parallel-item:first-child::after {align-self: flex-end;width: 50%;}#sk-container-id-1 div.sk-parallel-item:last-child::after {align-self: flex-start;width: 50%;}#sk-container-id-1 div.sk-parallel-item:only-child::after {width: 0;}#sk-container-id-1 div.sk-dashed-wrapped {border: 1px dashed gray;margin: 0 0.4em 0.5em 0.4em;box-sizing: border-box;padding-bottom: 0.4em;background-color: white;}#sk-container-id-1 div.sk-label label {font-family: monospace;font-weight: bold;display: inline-block;line-height: 1.2em;}#sk-container-id-1 div.sk-label-container {text-align: center;}#sk-container-id-1 div.sk-container {/* jupyter's `normalize.less` sets `[hidden] { display: none; }` but bootstrap.min.css set `[hidden] { display: none !important; }` so we also need the `!important` here to be able to override the default hidden behavior on the sphinx rendered scikit-learn.org. See: https://github.com/scikit-learn/scikit-learn/issues/21755 */display: inline-block !important;position: relative;}#sk-container-id-1 div.sk-text-repr-fallback {display: none;}</style><div id=\"sk-container-id-1\" class=\"sk-top-container\"><div class=\"sk-text-repr-fallback\"><pre>GaussianNB()</pre><b>In a Jupyter environment, please rerun this cell to show the HTML representation or trust the notebook. <br />On GitHub, the HTML representation is unable to render, please try loading this page with nbviewer.org.</b></div><div class=\"sk-container\" hidden><div class=\"sk-item\"><div class=\"sk-estimator sk-toggleable\"><input class=\"sk-toggleable__control sk-hidden--visually\" id=\"sk-estimator-id-1\" type=\"checkbox\" checked><label for=\"sk-estimator-id-1\" class=\"sk-toggleable__label sk-toggleable__label-arrow\">GaussianNB</label><div class=\"sk-toggleable__content\"><pre>GaussianNB()</pre></div></div></div></div></div>"
      ],
      "text/plain": [
       "GaussianNB()"
      ]
     },
     "execution_count": 12,
     "metadata": {},
     "output_type": "execute_result"
    }
   ],
   "source": [
    "naive_bayes = GaussianNB()\n",
    "naive_bayes.fit(x_train, y_train)"
   ]
  },
  {
   "cell_type": "markdown",
   "metadata": {},
   "source": [
    "Com o modelo criado é possível testá-lo utilizando o método `predict` que passando um valor ou um array de valores, ele resulta na previsão dos dados."
   ]
  },
  {
   "cell_type": "code",
   "execution_count": 15,
   "metadata": {},
   "outputs": [
    {
     "name": "stdout",
     "output_type": "stream",
     "text": [
      "['bad' 'good' 'good' 'good' 'bad' 'good' 'good' 'good' 'good' 'bad' 'bad'\n",
      " 'bad' 'good' 'bad' 'good' 'good' 'good' 'good' 'bad' 'good' 'bad' 'good'\n",
      " 'bad' 'good' 'good' 'bad' 'good' 'good' 'good' 'bad' 'good' 'good' 'good'\n",
      " 'good' 'good' 'bad' 'good' 'good' 'good' 'good' 'good' 'bad' 'good'\n",
      " 'good' 'good' 'bad' 'bad' 'bad' 'bad' 'bad' 'good' 'bad' 'good' 'good'\n",
      " 'good' 'good' 'bad' 'good' 'good' 'good' 'bad' 'good' 'good' 'good'\n",
      " 'good' 'good' 'good' 'good' 'bad' 'good' 'good' 'good' 'good' 'good'\n",
      " 'bad' 'good' 'good' 'good' 'good' 'good' 'good' 'good' 'good' 'bad'\n",
      " 'good' 'good' 'bad' 'bad' 'good' 'bad' 'good' 'good' 'good' 'good' 'good'\n",
      " 'good' 'good' 'good' 'good' 'good' 'good' 'good' 'good' 'bad' 'good'\n",
      " 'good' 'bad' 'bad' 'good' 'good' 'good' 'bad' 'good' 'good' 'bad' 'good'\n",
      " 'good' 'good' 'good' 'bad' 'bad' 'good' 'good' 'bad' 'good' 'good' 'good'\n",
      " 'good' 'good' 'good' 'good' 'good' 'bad' 'good' 'good' 'good' 'good'\n",
      " 'good' 'good' 'bad' 'bad' 'bad' 'good' 'bad' 'good' 'good' 'good' 'bad'\n",
      " 'bad' 'bad' 'good' 'good' 'good' 'good' 'good' 'good' 'good' 'good'\n",
      " 'good' 'good' 'bad' 'bad' 'bad' 'good' 'bad' 'bad' 'good' 'good' 'good'\n",
      " 'good' 'bad' 'good' 'bad' 'bad' 'good' 'good' 'good' 'bad' 'good' 'good'\n",
      " 'good' 'good' 'bad' 'bad' 'good' 'bad' 'good' 'good' 'good' 'good' 'good'\n",
      " 'bad' 'good' 'good' 'good' 'good' 'good' 'good' 'good' 'good' 'good'\n",
      " 'bad' 'bad' 'good' 'good' 'good' 'bad' 'good' 'good' 'good' 'bad' 'bad'\n",
      " 'bad' 'good' 'bad' 'good' 'good' 'bad' 'good' 'bad' 'bad' 'good' 'good'\n",
      " 'good' 'good' 'bad' 'good' 'bad' 'bad' 'good' 'good' 'good' 'good' 'good'\n",
      " 'bad' 'good' 'good' 'good' 'bad' 'bad' 'good' 'good' 'good' 'good' 'good'\n",
      " 'bad' 'good' 'good' 'good' 'good' 'good' 'bad' 'good' 'good' 'good'\n",
      " 'good' 'good' 'bad' 'good' 'good' 'bad' 'good' 'good' 'good' 'bad' 'bad'\n",
      " 'bad' 'good' 'good' 'good' 'good' 'good' 'good' 'good' 'bad' 'good'\n",
      " 'good' 'bad' 'good' 'good' 'good' 'good' 'good' 'good' 'good' 'good'\n",
      " 'good' 'good' 'good' 'good' 'good' 'good' 'good' 'good' 'good' 'good'\n",
      " 'bad' 'good' 'bad' 'good']\n"
     ]
    }
   ],
   "source": [
    "previsoes = naive_bayes.predict(x_test)\n",
    "print(previsoes)"
   ]
  },
  {
   "cell_type": "markdown",
   "metadata": {},
   "source": [
    "Esse resultado é o resultado da classe, dizendo se o cliente é um bom ou mau pagador. Porém esses dados são históricos, é possível saber qual foi o real resultado, se dado cliente é ou não um bom pagador. Uma outra forma de visualizar essa relação, é utilizando uma matriz de confusão, utilizando o método `confusion_matrix` da biblioteca `sklearn`.\n",
    "\n",
    "A matriz dce confusão é dada como uma comparação entre os verdadeiro e falsos positivos e negativos, conforme mostrado a seguir\n",
    "\\begin{pmatrix}\n",
    "  Verdadeiros Positivos     & Falsos Positivos \\\\\n",
    "  Falsos Negativos          & Verdadeiros Negativos \\\\\n",
    "\\end{pmatrix}\n",
    "\n",
    "Os Verdadeiros Positivos (VP) são os valores que eram determinados como verdadeiros e foram corretamente indicados como tal, por exemplo os clientes que eram bons pagadores e foram indicados como bons pagadores.\n",
    "\n",
    "Os Falsos Positivos (FP) são os cliente que não eram bons pagadores e foram indicados como sendo, logo eram valores falsos que foram indicados como verdadeiros.\n",
    "\n",
    "Os Falsos Negativos (FN) são os valores que eram verdadeiros e foram determinado como sendo falsos, ou seja os bons pagadores que foram indicados como mau pagadores.\n",
    "\n",
    "E por fim, os Verdadeiros Negativos (VN), são os maus pagadores que foram corretamente indicados como tal."
   ]
  },
  {
   "cell_type": "code",
   "execution_count": 18,
   "metadata": {},
   "outputs": [
    {
     "name": "stdout",
     "output_type": "stream",
     "text": [
      "[[ 41  45]\n",
      " [ 42 172]]\n",
      "Verdadeiros Positivos: 41\n",
      "Falsos Positivos: 45\n",
      "Falsos Negativos: 42\n",
      "Verdadeiros Negativos: 172\n"
     ]
    }
   ],
   "source": [
    "cf = confusion_matrix(y_test, naive_bayes.predict(x_test))\n",
    "print(cf)\n",
    "print(f\"Verdadeiros Positivos: {cf[0][0]}\\nFalsos Positivos: {cf[0][1]}\\nFalsos Negativos: {cf[1][0]}\\nVerdadeiros Negativos: {cf[1][1]}\")"
   ]
  },
  {
   "cell_type": "markdown",
   "metadata": {},
   "source": [
    "há um número significativo de acerto, mas para saber a taxa de acerto basta somar os VP e VN e dividir pelo total de estimativas, logo:\n",
    "$$ TaxaAcerto = \\frac{VP + VN}{VP + FP + FN + VN} $$\n",
    "\n",
    "Pode-se também utilizar o método `accuracy_score` que já faz esse cáluco direto."
   ]
  },
  {
   "cell_type": "code",
   "execution_count": 19,
   "metadata": {},
   "outputs": [
    {
     "name": "stdout",
     "output_type": "stream",
     "text": [
      "Taxa de acerto: 0.71%\n",
      "Taxa de erro: 0.29%\n"
     ]
    }
   ],
   "source": [
    "acerto = accuracy_score(y_test, naive_bayes.predict(x_test))\n",
    "print(f\"Taxa de acerto: {round(acerto,2)*100}%\\nTaxa de erro: {round(1-acerto,2)*100}%\")"
   ]
  }
 ],
 "metadata": {
  "kernelspec": {
   "display_name": "Python 3.10.5 64-bit",
   "language": "python",
   "name": "python3"
  },
  "language_info": {
   "codemirror_mode": {
    "name": "ipython",
    "version": 3
   },
   "file_extension": ".py",
   "mimetype": "text/x-python",
   "name": "python",
   "nbconvert_exporter": "python",
   "pygments_lexer": "ipython3",
   "version": "3.10.5"
  },
  "orig_nbformat": 4,
  "vscode": {
   "interpreter": {
    "hash": "8e5103ee969784827ff1986738a972d620acd86043b0a4e3772d79f704876b65"
   }
  }
 },
 "nbformat": 4,
 "nbformat_minor": 2
}
