{
 "cells": [
  {
   "cell_type": "markdown",
   "metadata": {},
   "source": [
    "#### C-Means\n",
    "\n",
    "O algoritmo Fuzzy C-means, é uma variaçãodo algoritmo de K-means, onde ele possibilita tratar incertezas, ou seja, dados que possuem características de dois diferentes grupos. Estes são classificados a partir de um “grau de pertinência” de cada grupo. O grau de pertinência descreve o quanto de semelhança ou proximidade, determinado elemento tem de cada grupo, indicando que o grupo ao qual este determinado dado pertence é aquele que o que possui maior grau de pertinência. "
   ]
  },
  {
   "cell_type": "code",
   "execution_count": 62,
   "metadata": {},
   "outputs": [],
   "source": [
    "from sklearn import datasets\n",
    "import numpy as np\n",
    "from sklearn.metrics import confusion_matrix\n",
    "from sklearn.metrics import accuracy_score\n",
    "import skfuzzy"
   ]
  },
  {
   "cell_type": "markdown",
   "metadata": {},
   "source": [
    "Será utilizado a base de dados `iris` que está presente no módulo `sklearn.datasets`. É uma base de dados que conta com a distribuição do tamanho da pétala e sépala de 3 classes de flores:\n",
    "* Iris Setosa\n",
    "* Iris Veriscolor\n",
    "* Iris Virginica\n",
    "\n",
    "É um dataset mto utilizado para prática de machine learning e está presente em vários ambientes como o `R` por exemplo."
   ]
  },
  {
   "cell_type": "code",
   "execution_count": 56,
   "metadata": {},
   "outputs": [],
   "source": [
    "dataset = datasets.load_iris()"
   ]
  },
  {
   "cell_type": "markdown",
   "metadata": {},
   "source": [
    "Agora cria-se o cluster utilizando a o método `skfuzzy.cmeans`. Como partâmetro é passado a matriz transposta dos dados, `dataset.data.T`, o número de clusters que é dado pelo argumento `c`, a taxa de erro, `error` e o número máximo de iterações, `maxiter`."
   ]
  },
  {
   "cell_type": "code",
   "execution_count": 58,
   "metadata": {},
   "outputs": [],
   "source": [
    "modelo = skfuzzy.cmeans(\n",
    "    data=dataset.data.T,\n",
    "    c=3,\n",
    "    m=2,\n",
    "    error=0.005,\n",
    "    maxiter=1000,\n",
    "    init=None\n",
    ")"
   ]
  },
  {
   "cell_type": "markdown",
   "metadata": {},
   "source": [
    "Então é criado um objeto dessa classe.\n",
    "\n",
    "Esse objeto possui inúmeros parâmetros, dentre eles a porcentagem de que cada classe é atribuída aos clusters, ou seja, a chance em que uma entrada tem de pertencer a um cluster específico. Esse atributo equivale a posição 1 do objeto."
   ]
  },
  {
   "cell_type": "code",
   "execution_count": 59,
   "metadata": {},
   "outputs": [],
   "source": [
    "porcentagem = modelo[1]"
   ]
  },
  {
   "cell_type": "markdown",
   "metadata": {},
   "source": [
    "Que é uma matriz com todas as entradas e a porcentagem da adesão a cada cluster. Com um `print` é possível observar com estão organizadas as 10 primeiras entradas."
   ]
  },
  {
   "cell_type": "code",
   "execution_count": 60,
   "metadata": {},
   "outputs": [
    {
     "name": "stdout",
     "output_type": "stream",
     "text": [
      "0.9966236326171273 0.0023044397126467495 0.0010719276702260724\n",
      "0.97583919384041 0.016659525183839976 0.007501280975750069\n",
      "0.9798172261807963 0.013766041102104245 0.0064167327170994385\n",
      "0.9674097634959967 0.022478331932177138 0.010111904571826135\n",
      "0.9944700378107467 0.003762070010731818 0.0017678921785215587\n",
      "0.9345455575931952 0.044827150477701694 0.020627291929102957\n",
      "0.9794826330188524 0.014010584334525174 0.0065067826466224535\n",
      "0.9995470198813872 0.00031171328911052656 0.00014126682950225364\n",
      "0.9303461141708306 0.0477431966223655 0.021910689206803884\n",
      "0.9827128879065682 0.011943021683425432 0.005344090410006534\n"
     ]
    }
   ],
   "source": [
    "for n in range(10):\n",
    "    print(porcentagem[0][n], porcentagem[1][n], porcentagem[2][n])"
   ]
  },
  {
   "cell_type": "markdown",
   "metadata": {},
   "source": [
    "Cada linha do resultado representa uma entrada, como por exemplo, para a primeira entrada, é muito mais provável que ela pertença ao terceiro cluster, com uma chance de 99,66%."
   ]
  },
  {
   "cell_type": "code",
   "execution_count": 61,
   "metadata": {},
   "outputs": [
    {
     "data": {
      "text/plain": [
       "array([[50,  0,  0],\n",
       "       [ 0, 47,  3],\n",
       "       [ 0, 13, 37]], dtype=int64)"
      ]
     },
     "execution_count": 61,
     "metadata": {},
     "output_type": "execute_result"
    }
   ],
   "source": [
    "previsoes = porcentagem.argmax(axis=0)\n",
    "confusion_matrix(dataset.target, previsoes)"
   ]
  },
  {
   "cell_type": "code",
   "execution_count": 63,
   "metadata": {},
   "outputs": [
    {
     "data": {
      "text/plain": [
       "0.8933333333333333"
      ]
     },
     "execution_count": 63,
     "metadata": {},
     "output_type": "execute_result"
    }
   ],
   "source": [
    "accuracy_score(dataset.target, previsoes)"
   ]
  },
  {
   "cell_type": "markdown",
   "metadata": {},
   "source": [
    "Esse método gerou uma taxa de acerto de 89,3% que é uma taxa de acerto muito alta."
   ]
  }
 ],
 "metadata": {
  "kernelspec": {
   "display_name": "Python 3.10.5 64-bit",
   "language": "python",
   "name": "python3"
  },
  "language_info": {
   "codemirror_mode": {
    "name": "ipython",
    "version": 3
   },
   "file_extension": ".py",
   "mimetype": "text/x-python",
   "name": "python",
   "nbconvert_exporter": "python",
   "pygments_lexer": "ipython3",
   "version": "3.10.5"
  },
  "orig_nbformat": 4,
  "vscode": {
   "interpreter": {
    "hash": "8e5103ee969784827ff1986738a972d620acd86043b0a4e3772d79f704876b65"
   }
  }
 },
 "nbformat": 4,
 "nbformat_minor": 2
}
