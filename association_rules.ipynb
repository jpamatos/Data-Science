{
 "cells": [
  {
   "cell_type": "markdown",
   "metadata": {},
   "source": [
    "#### Regras de Associação\n",
    "\n",
    "As regras de associação representam padrões de relacionamento entre itens de uma base de dados. Um exemplo é em transações de compras, examinando o padrão de compra de consumidores para determinar que produtos tem a tendência de ser adquiridos em conjunto. Um exemplo seria em uma lanchonete, pessoas que compram um salgado, tem a tendência de comprar suco.\n",
    "\n",
    "Citando o famoso caso de mineração de regras de associação: \"Consumidores que compram fraldas, tendem a comprar cerveja\". Esse caso mostra que pode haver regras de associação muito interessante que ainda estejam escondidas nos dados. \n",
    "\n",
    "Para encontrar essas regras utiliza-se os parâmetros `suporte` e `confiança`. O suporte é definido como o número de transações contendo um item específico dividido pelo número total de transações.\n",
    "$$ suporte(item) = \\frac{Transacoes\\ contendo\\ o\\ item}{Numero\\ total\\ de\\ transacoes} $$\n",
    "\n",
    "A confiança é definida como a probabilidade de comprar o item B sendo que o item A foi comprado, é calculado pelo número de transações contendo A e B, dividido pelo número de transações contendo A.\n",
    "$$ confianca(A \\rarr B) = \\frac{Numero\\ de\\ transacoes\\ contendo\\ A\\ e\\ B}{Numero\\ de\\ transacoes\\ contendo\\ B} $$"
   ]
  },
  {
   "cell_type": "code",
   "execution_count": 1,
   "metadata": {},
   "outputs": [],
   "source": [
    "import pandas as pd\n",
    "from efficient_apriori import apriori"
   ]
  },
  {
   "cell_type": "markdown",
   "metadata": {},
   "source": [
    "Primeiro é carregado em uma variável dados o conjunto de transações. Apesar de não ser um arquivo do tipo `csv` e sim de um `txt` ainda é um arquivo separado por vírgulas, então, utiliza-se o método `read_csv`.\n",
    "\n",
    "Esse arquivo representa a simulação das transações de uma pizzaria."
   ]
  },
  {
   "cell_type": "code",
   "execution_count": 2,
   "metadata": {},
   "outputs": [
    {
     "data": {
      "text/html": [
       "<div>\n",
       "<style scoped>\n",
       "    .dataframe tbody tr th:only-of-type {\n",
       "        vertical-align: middle;\n",
       "    }\n",
       "\n",
       "    .dataframe tbody tr th {\n",
       "        vertical-align: top;\n",
       "    }\n",
       "\n",
       "    .dataframe thead th {\n",
       "        text-align: right;\n",
       "    }\n",
       "</style>\n",
       "<table border=\"1\" class=\"dataframe\">\n",
       "  <thead>\n",
       "    <tr style=\"text-align: right;\">\n",
       "      <th></th>\n",
       "      <th>0</th>\n",
       "      <th>1</th>\n",
       "      <th>2</th>\n",
       "    </tr>\n",
       "  </thead>\n",
       "  <tbody>\n",
       "    <tr>\n",
       "      <th>0</th>\n",
       "      <td>Cerveja</td>\n",
       "      <td>Pizza</td>\n",
       "      <td>Sorvete</td>\n",
       "    </tr>\n",
       "    <tr>\n",
       "      <th>1</th>\n",
       "      <td>Pizza</td>\n",
       "      <td>Sorvete</td>\n",
       "      <td>NaN</td>\n",
       "    </tr>\n",
       "    <tr>\n",
       "      <th>2</th>\n",
       "      <td>Cerveja</td>\n",
       "      <td>Pizza</td>\n",
       "      <td>NaN</td>\n",
       "    </tr>\n",
       "    <tr>\n",
       "      <th>3</th>\n",
       "      <td>Cerveja</td>\n",
       "      <td>Pizza</td>\n",
       "      <td>Sorvete</td>\n",
       "    </tr>\n",
       "    <tr>\n",
       "      <th>4</th>\n",
       "      <td>Cerveja</td>\n",
       "      <td>Pizza</td>\n",
       "      <td>NaN</td>\n",
       "    </tr>\n",
       "    <tr>\n",
       "      <th>5</th>\n",
       "      <td>Pizza</td>\n",
       "      <td>NaN</td>\n",
       "      <td>NaN</td>\n",
       "    </tr>\n",
       "  </tbody>\n",
       "</table>\n",
       "</div>"
      ],
      "text/plain": [
       "         0        1        2\n",
       "0  Cerveja    Pizza  Sorvete\n",
       "1    Pizza  Sorvete      NaN\n",
       "2  Cerveja    Pizza      NaN\n",
       "3  Cerveja    Pizza  Sorvete\n",
       "4  Cerveja    Pizza      NaN\n",
       "5    Pizza      NaN      NaN"
      ]
     },
     "execution_count": 2,
     "metadata": {},
     "output_type": "execute_result"
    }
   ],
   "source": [
    "dados = pd.read_csv(\"data/transacoes.txt\", header=None)\n",
    "dados"
   ]
  },
  {
   "cell_type": "markdown",
   "metadata": {},
   "source": [
    "Percebe-se que o dataframe gerado contém alguns valores faltantes, os `NaN` que serão removidos quando esse dataframe for transformado em uma lista, para ser utilizada na apriori.\n",
    "\n",
    "Utilizando um `list comprehension` para cada linha `i` do dataframe, será pegado o elemento na posição `j` e adicionado à lista em forma de string, se e somente se, esse valor for diferente de `nan`."
   ]
  },
  {
   "cell_type": "code",
   "execution_count": 3,
   "metadata": {},
   "outputs": [
    {
     "name": "stdout",
     "output_type": "stream",
     "text": [
      "[['Cerveja', 'Pizza', 'Sorvete'], ['Pizza', 'Sorvete'], ['Cerveja', 'Pizza'], ['Cerveja', 'Pizza', 'Sorvete'], ['Cerveja', 'Pizza'], ['Pizza']]\n"
     ]
    }
   ],
   "source": [
    "transacoes = []\n",
    "for i in range(0, 6):\n",
    "    transacoes.append([str(dados.values[i, j]) for j in range(0, 3) if str(dados.values[i, j]) != \"nan\"])\n",
    "print(transacoes)\n"
   ]
  },
  {
   "cell_type": "markdown",
   "metadata": {},
   "source": [
    "Dessa forma cria-se uma lista contendo as transações sem os valores `nan`.\n",
    "\n",
    "Para executar o algoritmo basta chamar o método `apriori` e passar o conjunto de dados como partâmetro, além do suporte mínimo em `min_support` e a confiança mínima em `min_confidence`.\n",
    "\n",
    "Esse método possui dois retornos"
   ]
  },
  {
   "cell_type": "code",
   "execution_count": 4,
   "metadata": {},
   "outputs": [
    {
     "name": "stdout",
     "output_type": "stream",
     "text": [
      "Regras:\n",
      "{Pizza} -> {Cerveja} (conf: 0.667, supp: 0.667, lift: 1.000, conv: 1.000)\n",
      "{Cerveja} -> {Pizza} (conf: 1.000, supp: 0.667, lift: 1.000, conv: 0.000)\n",
      "{Sorvete} -> {Pizza} (conf: 1.000, supp: 0.500, lift: 1.000, conv: 0.000)\n",
      "{Pizza} -> {Sorvete} (conf: 0.500, supp: 0.500, lift: 1.000, conv: 1.000)\n"
     ]
    }
   ],
   "source": [
    "itens, regras = apriori(transacoes, min_support=0.5, min_confidence=0.5)\n",
    "print(\"Regras:\")\n",
    "for regra in regras:\n",
    "    print(regra)"
   ]
  },
  {
   "cell_type": "markdown",
   "metadata": {},
   "source": [
    "Para um índice de confiança maior"
   ]
  },
  {
   "cell_type": "code",
   "execution_count": 5,
   "metadata": {},
   "outputs": [
    {
     "name": "stdout",
     "output_type": "stream",
     "text": [
      "Regras:\n",
      "{Cerveja} -> {Pizza} (conf: 1.000, supp: 0.667, lift: 1.000, conv: 0.000)\n",
      "{Sorvete} -> {Pizza} (conf: 1.000, supp: 0.500, lift: 1.000, conv: 0.000)\n"
     ]
    }
   ],
   "source": [
    "itens, regras = apriori(transacoes, min_support=0.5, min_confidence=1)\n",
    "print(\"Regras:\")\n",
    "for regra in regras:\n",
    "    print(regra)"
   ]
  },
  {
   "cell_type": "markdown",
   "metadata": {},
   "source": [
    "Observa-se que para confiança em 100% é determinado que se um cliente comprar uma Cerveja é provável que ele vá comprar uma Pizza, e se ele comprar um sorvente, é provável que ele vá comprar uma pizza. O que faz sentido pois o problema está simulando as transações de uma pizzaria.\n",
    "\n",
    "Um outro problema seria as transações de uma mercearia. Carregando o conjunto de compras `transacoes2`."
   ]
  },
  {
   "cell_type": "code",
   "execution_count": 6,
   "metadata": {},
   "outputs": [
    {
     "data": {
      "text/html": [
       "<div>\n",
       "<style scoped>\n",
       "    .dataframe tbody tr th:only-of-type {\n",
       "        vertical-align: middle;\n",
       "    }\n",
       "\n",
       "    .dataframe tbody tr th {\n",
       "        vertical-align: top;\n",
       "    }\n",
       "\n",
       "    .dataframe thead th {\n",
       "        text-align: right;\n",
       "    }\n",
       "</style>\n",
       "<table border=\"1\" class=\"dataframe\">\n",
       "  <thead>\n",
       "    <tr style=\"text-align: right;\">\n",
       "      <th></th>\n",
       "      <th>0</th>\n",
       "      <th>1</th>\n",
       "      <th>2</th>\n",
       "      <th>3</th>\n",
       "    </tr>\n",
       "  </thead>\n",
       "  <tbody>\n",
       "    <tr>\n",
       "      <th>0</th>\n",
       "      <td>Cerveja</td>\n",
       "      <td>Carvao</td>\n",
       "      <td>Pao</td>\n",
       "      <td>NaN</td>\n",
       "    </tr>\n",
       "    <tr>\n",
       "      <th>1</th>\n",
       "      <td>Carvao</td>\n",
       "      <td>Pao</td>\n",
       "      <td>NaN</td>\n",
       "      <td>NaN</td>\n",
       "    </tr>\n",
       "    <tr>\n",
       "      <th>2</th>\n",
       "      <td>Cerveja</td>\n",
       "      <td>Carvao</td>\n",
       "      <td>Maionese</td>\n",
       "      <td>NaN</td>\n",
       "    </tr>\n",
       "    <tr>\n",
       "      <th>3</th>\n",
       "      <td>Cerveja</td>\n",
       "      <td>Carvao</td>\n",
       "      <td>Pao</td>\n",
       "      <td>Maionese</td>\n",
       "    </tr>\n",
       "    <tr>\n",
       "      <th>4</th>\n",
       "      <td>Cerveja</td>\n",
       "      <td>NaN</td>\n",
       "      <td>NaN</td>\n",
       "      <td>NaN</td>\n",
       "    </tr>\n",
       "    <tr>\n",
       "      <th>5</th>\n",
       "      <td>Carvao</td>\n",
       "      <td>NaN</td>\n",
       "      <td>NaN</td>\n",
       "      <td>NaN</td>\n",
       "    </tr>\n",
       "  </tbody>\n",
       "</table>\n",
       "</div>"
      ],
      "text/plain": [
       "         0       1         2         3\n",
       "0  Cerveja  Carvao       Pao       NaN\n",
       "1   Carvao     Pao       NaN       NaN\n",
       "2  Cerveja  Carvao  Maionese       NaN\n",
       "3  Cerveja  Carvao       Pao  Maionese\n",
       "4  Cerveja     NaN       NaN       NaN\n",
       "5   Carvao     NaN       NaN       NaN"
      ]
     },
     "execution_count": 6,
     "metadata": {},
     "output_type": "execute_result"
    }
   ],
   "source": [
    "dados = pd.read_csv(\"data/transacoes2.txt\", header=None)\n",
    "dados"
   ]
  },
  {
   "cell_type": "markdown",
   "metadata": {},
   "source": [
    "Semelhante ao outro problema, primeiro transformar o dataframe em uma lista sem os valores faltantes `nan`."
   ]
  },
  {
   "cell_type": "code",
   "execution_count": 7,
   "metadata": {},
   "outputs": [
    {
     "name": "stdout",
     "output_type": "stream",
     "text": [
      "[['Cerveja', 'Carvao', 'Pao'], ['Carvao', 'Pao'], ['Cerveja', 'Carvao', 'Maionese'], ['Cerveja', 'Carvao', 'Pao'], ['Cerveja'], ['Carvao']]\n"
     ]
    }
   ],
   "source": [
    "transacoes = []\n",
    "for i in range(0, 6):\n",
    "    transacoes.append([str(dados.values[i, j]) for j in range(0, 3) if str(dados.values[i, j]) != \"nan\"])\n",
    "print(transacoes)"
   ]
  },
  {
   "cell_type": "markdown",
   "metadata": {},
   "source": [
    "Aplicando o método apriori com o suporte mínimo de 50% e a confiança mínima de 75%."
   ]
  },
  {
   "cell_type": "code",
   "execution_count": 8,
   "metadata": {},
   "outputs": [
    {
     "name": "stdout",
     "output_type": "stream",
     "text": [
      "Regras:\n",
      "{Cerveja} -> {Carvao} (conf: 0.750, supp: 0.500, lift: 0.900, conv: 0.667)\n",
      "{Pao} -> {Carvao} (conf: 1.000, supp: 0.500, lift: 1.200, conv: 166666666.667)\n"
     ]
    }
   ],
   "source": [
    "itens, regras = apriori(transacoes, min_support=0.5, min_confidence=0.75)\n",
    "print(\"Regras:\")\n",
    "for regra in regras:\n",
    "    print(regra)"
   ]
  },
  {
   "cell_type": "markdown",
   "metadata": {},
   "source": [
    "A regras que se encontram nesse intervalo são Cerveja &rarr; Carvão e Pão &rarr; Carvão, ou seja esses são os produtos que tendem a ser comprados juntos."
   ]
  }
 ],
 "metadata": {
  "kernelspec": {
   "display_name": "Python 3.10.5 64-bit",
   "language": "python",
   "name": "python3"
  },
  "language_info": {
   "codemirror_mode": {
    "name": "ipython",
    "version": 3
   },
   "file_extension": ".py",
   "mimetype": "text/x-python",
   "name": "python",
   "nbconvert_exporter": "python",
   "pygments_lexer": "ipython3",
   "version": "3.10.5"
  },
  "orig_nbformat": 4,
  "vscode": {
   "interpreter": {
    "hash": "8e5103ee969784827ff1986738a972d620acd86043b0a4e3772d79f704876b65"
   }
  }
 },
 "nbformat": 4,
 "nbformat_minor": 2
}
