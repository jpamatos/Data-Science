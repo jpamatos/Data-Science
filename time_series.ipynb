{
 "cells": [
  {
   "cell_type": "markdown",
   "metadata": {},
   "source": [
    "#### Séries Temprais"
   ]
  },
  {
   "cell_type": "code",
   "execution_count": 1,
   "metadata": {},
   "outputs": [],
   "source": [
    "import pandas as pd\n",
    "import numpy as np\n",
    "import matplotlib.pylab as plt\n",
    "from datetime import datetime\n",
    "from pandas.plotting import register_matplotlib_converters"
   ]
  },
  {
   "cell_type": "markdown",
   "metadata": {},
   "source": [
    "O conjunto de dados `AirPassengers` contém as informações de transportes de passageiros nos Estados Unidos entre os anos de 1949 e 1960."
   ]
  },
  {
   "cell_type": "code",
   "execution_count": 7,
   "metadata": {},
   "outputs": [
    {
     "data": {
      "text/html": [
       "<div>\n",
       "<style scoped>\n",
       "    .dataframe tbody tr th:only-of-type {\n",
       "        vertical-align: middle;\n",
       "    }\n",
       "\n",
       "    .dataframe tbody tr th {\n",
       "        vertical-align: top;\n",
       "    }\n",
       "\n",
       "    .dataframe thead th {\n",
       "        text-align: right;\n",
       "    }\n",
       "</style>\n",
       "<table border=\"1\" class=\"dataframe\">\n",
       "  <thead>\n",
       "    <tr style=\"text-align: right;\">\n",
       "      <th></th>\n",
       "      <th>Month</th>\n",
       "      <th>#Passengers</th>\n",
       "    </tr>\n",
       "  </thead>\n",
       "  <tbody>\n",
       "    <tr>\n",
       "      <th>0</th>\n",
       "      <td>1949-01</td>\n",
       "      <td>112</td>\n",
       "    </tr>\n",
       "    <tr>\n",
       "      <th>1</th>\n",
       "      <td>1949-02</td>\n",
       "      <td>118</td>\n",
       "    </tr>\n",
       "    <tr>\n",
       "      <th>2</th>\n",
       "      <td>1949-03</td>\n",
       "      <td>132</td>\n",
       "    </tr>\n",
       "    <tr>\n",
       "      <th>3</th>\n",
       "      <td>1949-04</td>\n",
       "      <td>129</td>\n",
       "    </tr>\n",
       "    <tr>\n",
       "      <th>4</th>\n",
       "      <td>1949-05</td>\n",
       "      <td>121</td>\n",
       "    </tr>\n",
       "  </tbody>\n",
       "</table>\n",
       "</div>"
      ],
      "text/plain": [
       "     Month  #Passengers\n",
       "0  1949-01          112\n",
       "1  1949-02          118\n",
       "2  1949-03          132\n",
       "3  1949-04          129\n",
       "4  1949-05          121"
      ]
     },
     "execution_count": 7,
     "metadata": {},
     "output_type": "execute_result"
    }
   ],
   "source": [
    "dataset = pd.read_csv(\"data/AirPassengers.csv\")\n",
    "dataset.head()"
   ]
  },
  {
   "cell_type": "markdown",
   "metadata": {},
   "source": [
    "Pelo método `head` que mostra o cabeçalho o arquivo, observa-se que o dataset contém o número de passageros a cada mês."
   ]
  },
  {
   "cell_type": "code",
   "execution_count": 5,
   "metadata": {},
   "outputs": [
    {
     "data": {
      "text/plain": [
       "(144, 2)"
      ]
     },
     "execution_count": 5,
     "metadata": {},
     "output_type": "execute_result"
    }
   ],
   "source": [
    "dataset.shape"
   ]
  },
  {
   "cell_type": "markdown",
   "metadata": {},
   "source": [
    "O atributo `shape` mostra que o dataset contém 144 entradas.\n",
    "\n",
    "Primeiro, é necessário analisar os tipos de dados das colunas do dataset, utilizando o atributo `dtypes`."
   ]
  },
  {
   "cell_type": "code",
   "execution_count": 8,
   "metadata": {},
   "outputs": [
    {
     "name": "stdout",
     "output_type": "stream",
     "text": [
      "Month          object\n",
      "#Passengers     int64\n",
      "dtype: object\n"
     ]
    }
   ],
   "source": [
    "print(dataset.dtypes)"
   ]
  },
  {
   "cell_type": "markdown",
   "metadata": {},
   "source": [
    "O mês está como objeto o que não permite a utilização dele para as análises, para isso, essa coluna precisa ser convertida em um formato de string de data, ANO-MÊS, através do método `strptime` da classe `datetime`.\n",
    "\n",
    "Para isso cria-se um parser, para receber cada objeto do tipo data e transformá-lo em uma string do formato necessário.\n",
    "\n",
    "Então o conjunto de dados é reimportado, mas dessa vez com novos parâmetros:\n",
    "* `parse_dates` - indica qual coluna é a coluna das datas;\n",
    "* `index_col` - indica qual coluna será a nova coluna de índices;\n",
    "* `date_parser` - indica qual variável armazena o date parser que será utilizado."
   ]
  },
  {
   "cell_type": "code",
   "execution_count": 11,
   "metadata": {},
   "outputs": [
    {
     "data": {
      "text/html": [
       "<div>\n",
       "<style scoped>\n",
       "    .dataframe tbody tr th:only-of-type {\n",
       "        vertical-align: middle;\n",
       "    }\n",
       "\n",
       "    .dataframe tbody tr th {\n",
       "        vertical-align: top;\n",
       "    }\n",
       "\n",
       "    .dataframe thead th {\n",
       "        text-align: right;\n",
       "    }\n",
       "</style>\n",
       "<table border=\"1\" class=\"dataframe\">\n",
       "  <thead>\n",
       "    <tr style=\"text-align: right;\">\n",
       "      <th></th>\n",
       "      <th>#Passengers</th>\n",
       "    </tr>\n",
       "    <tr>\n",
       "      <th>Month</th>\n",
       "      <th></th>\n",
       "    </tr>\n",
       "  </thead>\n",
       "  <tbody>\n",
       "    <tr>\n",
       "      <th>1949-01-01</th>\n",
       "      <td>112</td>\n",
       "    </tr>\n",
       "    <tr>\n",
       "      <th>1949-02-01</th>\n",
       "      <td>118</td>\n",
       "    </tr>\n",
       "    <tr>\n",
       "      <th>1949-03-01</th>\n",
       "      <td>132</td>\n",
       "    </tr>\n",
       "    <tr>\n",
       "      <th>1949-04-01</th>\n",
       "      <td>129</td>\n",
       "    </tr>\n",
       "    <tr>\n",
       "      <th>1949-05-01</th>\n",
       "      <td>121</td>\n",
       "    </tr>\n",
       "  </tbody>\n",
       "</table>\n",
       "</div>"
      ],
      "text/plain": [
       "            #Passengers\n",
       "Month                  \n",
       "1949-01-01          112\n",
       "1949-02-01          118\n",
       "1949-03-01          132\n",
       "1949-04-01          129\n",
       "1949-05-01          121"
      ]
     },
     "execution_count": 11,
     "metadata": {},
     "output_type": "execute_result"
    }
   ],
   "source": [
    "dateparse = lambda dates: datetime.strptime(dates, \"%Y-%m\")\n",
    "\n",
    "dataset = pd.read_csv(\"data/AirPassengers.csv\",\n",
    "                      parse_dates=[\"Month\"],\n",
    "                      index_col=\"Month\",\n",
    "                      date_parser=dateparse\n",
    ")\n",
    "\n",
    "dataset.head()"
   ]
  },
  {
   "cell_type": "code",
   "execution_count": 12,
   "metadata": {},
   "outputs": [
    {
     "data": {
      "text/plain": [
       "DatetimeIndex(['1949-01-01', '1949-02-01', '1949-03-01', '1949-04-01',\n",
       "               '1949-05-01', '1949-06-01', '1949-07-01', '1949-08-01',\n",
       "               '1949-09-01', '1949-10-01',\n",
       "               ...\n",
       "               '1960-03-01', '1960-04-01', '1960-05-01', '1960-06-01',\n",
       "               '1960-07-01', '1960-08-01', '1960-09-01', '1960-10-01',\n",
       "               '1960-11-01', '1960-12-01'],\n",
       "              dtype='datetime64[ns]', name='Month', length=144, freq=None)"
      ]
     },
     "execution_count": 12,
     "metadata": {},
     "output_type": "execute_result"
    }
   ],
   "source": [
    "dataset.index"
   ]
  },
  {
   "cell_type": "markdown",
   "metadata": {},
   "source": [
    "Agora observa-se que a coluna de meses está sendo uitlizada como o índice dos dados. E o seu tipo é objeto do tipo `datetime`."
   ]
  },
  {
   "cell_type": "code",
   "execution_count": 13,
   "metadata": {},
   "outputs": [],
   "source": [
    "time_series = dataset[\"#Passengers\"]"
   ]
  },
  {
   "cell_type": "markdown",
   "metadata": {},
   "source": [
    "A variável time series é criada utilizando a coluna de número de passageiros do dataset.\n",
    "\n",
    "É possível também, visualizar esses dados de todas as formas que já são conhecidas."
   ]
  },
  {
   "cell_type": "code",
   "execution_count": 29,
   "metadata": {},
   "outputs": [
    {
     "name": "stdout",
     "output_type": "stream",
     "text": [
      "Escolhendo um ano e um mês:\n",
      "Month\n",
      "1949-08-01    148\n",
      "Name: #Passengers, dtype: int64\n",
      "\n",
      "Escolhendo uma data específica:\n",
      "136\n",
      "\n",
      "Uitilizando intervalos:\n",
      "Month\n",
      "1949-12-01    118\n",
      "1950-01-01    115\n",
      "1950-02-01    126\n",
      "Name: #Passengers, dtype: int64\n",
      "\n",
      "Do início até uma data específica:\n",
      "Month\n",
      "1949-01-01    112\n",
      "1949-02-01    118\n",
      "1949-03-01    132\n",
      "Name: #Passengers, dtype: int64\n",
      "\n",
      "De uma data específica até o final:\n",
      "Month\n",
      "1960-10-01    461\n",
      "1960-11-01    390\n",
      "1960-12-01    432\n",
      "Name: #Passengers, dtype: int64\n",
      "\n",
      "Um ano inteiro:\n",
      "Month\n",
      "1957-01-01    315\n",
      "1957-02-01    301\n",
      "1957-03-01    356\n",
      "1957-04-01    348\n",
      "1957-05-01    355\n",
      "1957-06-01    422\n",
      "1957-07-01    465\n",
      "1957-08-01    467\n",
      "1957-09-01    404\n",
      "1957-10-01    347\n",
      "1957-11-01    305\n",
      "1957-12-01    336\n",
      "1958-01-01    340\n",
      "1958-02-01    318\n",
      "1958-03-01    362\n",
      "1958-04-01    348\n",
      "1958-05-01    363\n",
      "1958-06-01    435\n",
      "1958-07-01    491\n",
      "1958-08-01    505\n",
      "1958-09-01    404\n",
      "1958-10-01    359\n",
      "1958-11-01    310\n",
      "1958-12-01    337\n",
      "1959-01-01    360\n",
      "1959-02-01    342\n",
      "1959-03-01    406\n",
      "1959-04-01    396\n",
      "1959-05-01    420\n",
      "1959-06-01    472\n",
      "1959-07-01    548\n",
      "1959-08-01    559\n",
      "1959-09-01    463\n",
      "1959-10-01    407\n",
      "1959-11-01    362\n",
      "1959-12-01    405\n",
      "1960-01-01    417\n",
      "1960-02-01    391\n",
      "1960-03-01    419\n",
      "1960-04-01    461\n",
      "1960-05-01    472\n",
      "1960-06-01    535\n",
      "1960-07-01    622\n",
      "1960-08-01    606\n",
      "1960-09-01    508\n",
      "1960-10-01    461\n",
      "1960-11-01    390\n",
      "1960-12-01    432\n",
      "Name: #Passengers, dtype: int64\n",
      "\n",
      "Valor máximo e mínimo:\n",
      "Máximo: 622\n",
      "Mínimo: 104\n"
     ]
    }
   ],
   "source": [
    "print(f\"Escolhendo um ano e um mês:\\n{time_series['1949-08']}\")\n",
    "print(f\"\\nEscolhendo uma data específica:\\n{time_series[datetime(1949,9,1)]}\")\n",
    "print(f\"\\nUitilizando intervalos:\\n{time_series['1949-12-01' : '1950-02-01']}\")\n",
    "print(f\"\\nDo início até uma data específica:\\n{time_series[: '1949-03-01']}\")\n",
    "print(f\"\\nDe uma data específica até o final:\\n{time_series['1960-10-01':]}\")\n",
    "print(f\"\\nUm ano inteiro:\\n{time_series['1957':]}\")\n",
    "print(f\"\\nValor máximo e mínimo:\\nMáximo: {max(time_series)}\\nMínimo: {min(time_series)}\")"
   ]
  }
 ],
 "metadata": {
  "kernelspec": {
   "display_name": "Python 3.10.5 64-bit",
   "language": "python",
   "name": "python3"
  },
  "language_info": {
   "codemirror_mode": {
    "name": "ipython",
    "version": 3
   },
   "file_extension": ".py",
   "mimetype": "text/x-python",
   "name": "python",
   "nbconvert_exporter": "python",
   "pygments_lexer": "ipython3",
   "version": "3.10.5"
  },
  "orig_nbformat": 4,
  "vscode": {
   "interpreter": {
    "hash": "8e5103ee969784827ff1986738a972d620acd86043b0a4e3772d79f704876b65"
   }
  }
 },
 "nbformat": 4,
 "nbformat_minor": 2
}
